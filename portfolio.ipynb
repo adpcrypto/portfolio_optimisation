{
 "cells": [
  {
   "cell_type": "code",
   "execution_count": 1,
   "metadata": {
    "colab": {
     "base_uri": "https://localhost:8080/"
    },
    "id": "nVG28Wf4-kJ9",
    "outputId": "f72f1503-16ba-49f0-877d-5d3f30b7c75c"
   },
   "outputs": [],
   "source": [
    "!pip install bsedata"
   ]
  },
  {
   "cell_type": "code",
   "execution_count": 2,
   "metadata": {
    "colab": {
     "base_uri": "https://localhost:8080/"
    },
    "id": "5bH9Q2xhEe1q",
    "outputId": "6ab61579-5a80-4711-fe6a-dcb786e7d2a2"
   },
   "outputs": [],
   "source": [
    "from bsedata import bse\n",
    "import pandas as pd\n",
    "import numpy as np\n",
    "\n",
    "# Object which implements functionality of BSE Package\n",
    "b = bse.BSE()\n",
    "# Sorted List Codes of Top Gainers\n",
    "b.topGainers()"
   ]
  },
  {
   "cell_type": "code",
   "execution_count": 3,
   "metadata": {
    "id": "uwnDRg96HLz0"
   },
   "outputs": [],
   "source": [
    "# Details of Top Gainers\n",
    "top_gainers = b.topGainers()\n",
    "res = []\n",
    "for i,gainer in enumerate(top_gainers):\n",
    "  try:\n",
    "    res.append( b.getQuote(gainer['scripCode']) )\n",
    "  except:\n",
    "    pass"
   ]
  },
  {
   "cell_type": "code",
   "execution_count": 4,
   "metadata": {
    "id": "Tk_ADn6HFY45"
   },
   "outputs": [],
   "source": [
    "# Details of Top Gainers\n",
    "top_gainers = b.topGainers()\n",
    "top_gainer_names = []\n",
    "for gainer in top_gainers:\n",
    "  try:\n",
    "    top_gainer_names.append( b.getQuote(gainer['scripCode'])['companyName'] )\n",
    "  except:\n",
    "    pass\n"
   ]
  },
  {
   "cell_type": "code",
   "execution_count": 12,
   "metadata": {
    "colab": {
     "base_uri": "https://localhost:8080/"
    },
    "id": "aOupbMxOGEbk",
    "outputId": "5dd6bb0e-ebe0-4fdb-c020-c48ad7f5c9e3"
   },
   "outputs": [],
   "source": [
    "# Getting the scripCodes and corresponding company names\n",
    "b.updateScripCodes()\n",
    "comps = b.getScripCodes()\n",
    "comps"
   ]
  },
  {
   "cell_type": "code",
   "execution_count": 6,
   "metadata": {
    "id": "uEKlBaWfH8X2"
   },
   "outputs": [],
   "source": [
    "d = {\n",
    "    'scripCode': [],\n",
    "    'companyName': [],\n",
    "}\n",
    "for code,name in comps.items():\n",
    "  d['scripCode'].append(code)\n",
    "  d['companyName'].append(name)\n",
    "companies_df = pd.DataFrame(d)\n",
    "companies_df.to_csv('companies.csv', index=None)"
   ]
  },
  {
   "cell_type": "code",
   "execution_count": 7,
   "metadata": {
    "id": "QHrhBijPoz8j"
   },
   "outputs": [],
   "source": [
    "# Creating Custom Thread to download Stock Data\n",
    "\n",
    "from threading import Thread\n",
    "from time import time\n",
    "import math\n",
    "\n",
    "class GetQuoteThread(Thread):\n",
    "\n",
    "  def __init__(self, i, comps):\n",
    "    # print(f'Init: {i}')\n",
    "    Thread.__init__(self)\n",
    "    self.data = dict()\n",
    "    self.comps = comps\n",
    "    self.i = i\n",
    "    self.success = 0\n",
    "    self.fail = 0\n",
    "\n",
    "  def run(self):\n",
    "    for code in self.comps:\n",
    "\n",
    "      try:\n",
    "        self.data[code] = b.getQuote(code)\n",
    "        self.success += 1\n",
    "      except Exception:\n",
    "        self.fail += 1\n"
   ]
  },
  {
   "cell_type": "code",
   "execution_count": 8,
   "metadata": {
    "id": "YhJ66-wVruRI"
   },
   "outputs": [],
   "source": [
    "# Takes around 3 mins\n",
    "# To reduce this, decrease stocks per_thread -> Increases no: of Threads\n",
    "\n",
    "threads = []\n",
    "codes = list( comps.keys() )\n",
    "per_thread = 125\n",
    "\n",
    "for i in range(per_thread, per_thread*math.ceil(len(codes)//per_thread)+1, per_thread):\n",
    "  threads.append( GetQuoteThread( i, codes[i-per_thread:i] ) )\n",
    "\n",
    "for thread in threads:\n",
    "  thread.start()\n",
    "\n",
    "comp_quotes = dict()\n",
    "s,f = 0,0\n",
    "for thread in threads:\n",
    "  thread.join()\n",
    "  comp_quotes.update(thread.data)\n",
    "  s += thread.success\n",
    "  f += thread.fail\n",
    "  # print(thread.t2-thread.t1)\n",
    "  # print(thread.data)"
   ]
  },
  {
   "cell_type": "code",
   "execution_count": 15,
   "metadata": {
    "colab": {
     "base_uri": "https://localhost:8080/"
    },
    "id": "vphh0ouyEWw6",
    "outputId": "555ceaec-59a1-4f63-8e37-ccf011618010"
   },
   "outputs": [],
   "source": [
    "# Just some debugging -> Works alright!\n",
    "# Some Threads have failed. Maybe some outdated stocks\n",
    "len(comp_quotes), s, f, s+f"
   ]
  },
  {
   "cell_type": "code",
   "execution_count": 16,
   "metadata": {
    "id": "mdNWDxKlYoEl"
   },
   "outputs": [],
   "source": [
    "# Picking out the Top 'n' companies in terms of their MarketCap\n",
    "n = 1000\n",
    "codes = list( comp_quotes.keys() )\n",
    "codes.sort(key = lambda x: comp_quotes[x]['marketCapFull'])\n",
    "codes = codes[:n]\n"
   ]
  },
  {
   "cell_type": "code",
   "execution_count": 17,
   "metadata": {
    "colab": {
     "base_uri": "https://localhost:8080/",
     "height": 245
    },
    "id": "t1op1042IK99",
    "outputId": "a156e248-3d89-4ab4-f38c-5c2df991b04a"
   },
   "outputs": [],
   "source": [
    "# Getting The Price data for the past 12 months\n",
    "prices = {}\n",
    "for code in codes:\n",
    "  ret = b.getPeriodTrend( code, '12M' )\n",
    "  # print(code, ret)\n",
    "  prices[code] = [ day['value'] for day in ret ]\n",
    "  # print(len(data[comp]))be\n"
   ]
  },
  {
   "cell_type": "code",
   "execution_count": 18,
   "metadata": {
    "colab": {
     "base_uri": "https://localhost:8080/",
     "height": 367
    },
    "id": "-Rww4LPyPMCT",
    "outputId": "eb8c79c8-8d38-4c17-8d6c-9ac55a981f40"
   },
   "outputs": [],
   "source": [
    "# Pick only the stocks where data isn't missing\n",
    "working_days = max(len(prices[code]) for code in codes)\n",
    "price_data = dict()\n",
    "final_codes = []\n",
    "\n",
    "for code in codes:\n",
    "  if len(prices[code]) == working_days:\n",
    "    price_data[comps[code]] = prices[code]\n",
    "    final_codes.append(code)\n",
    "\n",
    "prices_df = pd.DataFrame(price_data)\n",
    "prices_df.to_csv('price_data.csv', index=None)"
   ]
  },
  {
   "cell_type": "code",
   "execution_count": null,
   "metadata": {
    "id": "OPxGHqrBoAF4"
   },
   "outputs": [],
   "source": [
    "prices_df = pd.read_csv('price_data.csv')"
   ]
  },
  {
   "cell_type": "code",
   "execution_count": null,
   "metadata": {
    "colab": {
     "base_uri": "https://localhost:8080/",
     "height": 557
    },
    "id": "P-42N0HnZ-s1",
    "outputId": "a2963cb2-aa2d-43d1-a9dd-4b7c115e999a"
   },
   "outputs": [],
   "source": [
    "# Price Data of Prev 12 Months\n",
    "prices_df"
   ]
  },
  {
   "cell_type": "code",
   "execution_count": null,
   "metadata": {
    "colab": {
     "base_uri": "https://localhost:8080/",
     "height": 557
    },
    "id": "BV-axzt-Ln7z",
    "outputId": "1e1746dd-b8fe-481d-91b6-91773b22e73b"
   },
   "outputs": [],
   "source": [
    "# Daily Returns for past 12 Months\n",
    "ret_df = prices_df.pct_change().drop(0)\n",
    "ret_df"
   ]
  },
  {
   "cell_type": "code",
   "execution_count": null,
   "metadata": {
    "colab": {
     "base_uri": "https://localhost:8080/",
     "height": 800
    },
    "id": "-oacAB8OoWvw",
    "outputId": "9e3da16f-a90c-410c-9392-7bbdcc87b1d9"
   },
   "outputs": [],
   "source": [
    "# Covariance Matrix of Returns Matrix\n",
    "cov = np.round( ret_df.cov(), 6 )\n",
    "cov"
   ]
  },
  {
   "cell_type": "code",
   "execution_count": null,
   "metadata": {
    "id": "eJq6kOJZZi8A"
   },
   "outputs": [],
   "source": []
  }
 ],
 "metadata": {
  "colab": {
   "provenance": []
  },
  "kernelspec": {
   "display_name": "Python 3 (ipykernel)",
   "language": "python",
   "name": "python3"
  },
  "language_info": {
   "codemirror_mode": {
    "name": "ipython",
    "version": 3
   },
   "file_extension": ".py",
   "mimetype": "text/x-python",
   "name": "python",
   "nbconvert_exporter": "python",
   "pygments_lexer": "ipython3",
   "version": "3.7.6"
  }
 },
 "nbformat": 4,
 "nbformat_minor": 1
}
